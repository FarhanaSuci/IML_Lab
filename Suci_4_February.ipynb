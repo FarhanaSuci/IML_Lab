{
 "cells": [
  {
   "cell_type": "code",
   "execution_count": 1,
   "id": "25575f69-4145-4855-86f0-eec8ada27723",
   "metadata": {},
   "outputs": [
    {
     "name": "stdout",
     "output_type": "stream",
     "text": [
      "IML Lab\n"
     ]
    }
   ],
   "source": [
    "print(\"IML Lab\")"
   ]
  },
  {
   "cell_type": "code",
   "execution_count": null,
   "id": "c2652c03-f014-4371-9bbf-ec0983a26938",
   "metadata": {},
   "outputs": [],
   "source": []
  }
 ],
 "metadata": {
  "kernelspec": {
   "display_name": "Python 3 (ipykernel)",
   "language": "python",
   "name": "python3"
  },
  "language_info": {
   "codemirror_mode": {
    "name": "ipython",
    "version": 3
   },
   "file_extension": ".py",
   "mimetype": "text/x-python",
   "name": "python",
   "nbconvert_exporter": "python",
   "pygments_lexer": "ipython3",
   "version": "3.10.12"
  }
 },
 "nbformat": 4,
 "nbformat_minor": 5
}
